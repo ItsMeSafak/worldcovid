{
 "cells": [
  {
   "cell_type": "code",
   "execution_count": 17,
   "metadata": {},
   "outputs": [],
   "source": [
    "import pandas as pd\n",
    "import pyyoutube as yt\n",
    "import socialblade as sb\n",
    "import streamlit as st\n",
    "import json"
   ]
  },
  {
   "cell_type": "code",
   "execution_count": 68,
   "metadata": {},
   "outputs": [
    {
     "name": "stderr",
     "output_type": "stream",
     "text": [
      "C:\\Users\\safak\\AppData\\Local\\Temp/ipykernel_21716/3686499886.py:4: FutureWarning: The default value of regex will change from True to False in a future version.\n",
      "  df_pewds.columns = df_pewds.columns.str.replace('snippet.', '')\n",
      "C:\\Users\\safak\\AppData\\Local\\Temp/ipykernel_21716/3686499886.py:5: FutureWarning: The default value of regex will change from True to False in a future version.\n",
      "  df_pewds.columns = df_pewds.columns.str.replace('statistics.', '')\n"
     ]
    },
    {
     "data": {
      "text/html": [
       "<div>\n",
       "<style scoped>\n",
       "    .dataframe tbody tr th:only-of-type {\n",
       "        vertical-align: middle;\n",
       "    }\n",
       "\n",
       "    .dataframe tbody tr th {\n",
       "        vertical-align: top;\n",
       "    }\n",
       "\n",
       "    .dataframe thead th {\n",
       "        text-align: right;\n",
       "    }\n",
       "</style>\n",
       "<table border=\"1\" class=\"dataframe\">\n",
       "  <thead>\n",
       "    <tr style=\"text-align: right;\">\n",
       "      <th></th>\n",
       "      <th>title</th>\n",
       "      <th>publishedAt</th>\n",
       "      <th>viewCount</th>\n",
       "      <th>subscriberCount</th>\n",
       "      <th>videoCount</th>\n",
       "    </tr>\n",
       "    <tr>\n",
       "      <th>id</th>\n",
       "      <th></th>\n",
       "      <th></th>\n",
       "      <th></th>\n",
       "      <th></th>\n",
       "      <th></th>\n",
       "    </tr>\n",
       "  </thead>\n",
       "  <tbody>\n",
       "    <tr>\n",
       "      <th>UC-lHJZR3Gqxm24_Vd_AJ5Yw</th>\n",
       "      <td>PewDiePie</td>\n",
       "      <td>2010-04-29T10:54:00Z</td>\n",
       "      <td>27919249275</td>\n",
       "      <td>110000000</td>\n",
       "      <td>4433</td>\n",
       "    </tr>\n",
       "  </tbody>\n",
       "</table>\n",
       "</div>"
      ],
      "text/plain": [
       "                              title           publishedAt    viewCount  \\\n",
       "id                                                                       \n",
       "UC-lHJZR3Gqxm24_Vd_AJ5Yw  PewDiePie  2010-04-29T10:54:00Z  27919249275   \n",
       "\n",
       "                         subscriberCount videoCount  \n",
       "id                                                   \n",
       "UC-lHJZR3Gqxm24_Vd_AJ5Yw       110000000       4433  "
      ]
     },
     "execution_count": 68,
     "metadata": {},
     "output_type": "execute_result"
    }
   ],
   "source": [
    "yt_api = yt.Api(api_key=st.secrets['YT_API_KEY'])\n",
    "yt_pewds = yt_api.get_channel_info(channel_id='UC-lHJZR3Gqxm24_Vd_AJ5Yw')\n",
    "df_pewds = pd.json_normalize(yt_pewds.items[0].to_dict()).set_index('id')\n",
    "df_pewds.columns = df_pewds.columns.str.replace('snippet.', '')\n",
    "df_pewds.columns = df_pewds.columns.str.replace('statistics.', '')\n",
    "df_pewds_clean = df_pewds[['title', 'publishedAt', 'viewCount', 'subscriberCount', 'videoCount']]\n",
    "df_pewds_clean"
   ]
  },
  {
   "cell_type": "code",
   "execution_count": 26,
   "metadata": {},
   "outputs": [
    {
     "name": "stdout",
     "output_type": "stream",
     "text": [
      "<generator object YouTubeChannel.__add_videos at 0x0000014E1BDA9430>\n",
      "<socialblade.YouTubeVideo object at 0x0000014E1BF4B4C0>\n",
      "<socialblade.YouTubeVideo object at 0x0000014E1BDACAF0>\n",
      "<socialblade.YouTubeVideo object at 0x0000014E1BDAC1F0>\n",
      "<socialblade.YouTubeVideo object at 0x0000014E1BDAC4F0>\n",
      "<socialblade.YouTubeVideo object at 0x0000014E1BDAC1F0>\n",
      "<socialblade.YouTubeVideo object at 0x0000014E1BDACAF0>\n",
      "<socialblade.YouTubeVideo object at 0x0000014E1BDAC940>\n",
      "<socialblade.YouTubeVideo object at 0x0000014E1BDAC1F0>\n",
      "<socialblade.YouTubeVideo object at 0x0000014E1BDACE80>\n",
      "<socialblade.YouTubeVideo object at 0x0000014E1BDAC340>\n",
      "<socialblade.YouTubeVideo object at 0x0000014E1BDACAF0>\n",
      "<socialblade.YouTubeVideo object at 0x0000014E1BE82B80>\n",
      "<socialblade.YouTubeVideo object at 0x0000014E1BE82130>\n",
      "<socialblade.YouTubeVideo object at 0x0000014E1BE82BB0>\n",
      "<socialblade.YouTubeVideo object at 0x0000014E1BE82B80>\n",
      "<socialblade.YouTubeVideo object at 0x0000014E1BE82BB0>\n",
      "<socialblade.YouTubeVideo object at 0x0000014E1BE825B0>\n",
      "<socialblade.YouTubeVideo object at 0x0000014E1BE820D0>\n",
      "<socialblade.YouTubeVideo object at 0x0000014E1BE823A0>\n",
      "<socialblade.YouTubeVideo object at 0x0000014E1BE820A0>\n",
      "<socialblade.YouTubeVideo object at 0x0000014E1BE82BB0>\n",
      "<socialblade.YouTubeVideo object at 0x0000014E1BE82400>\n",
      "<socialblade.YouTubeVideo object at 0x0000014E1BE82E80>\n",
      "<socialblade.YouTubeVideo object at 0x0000014E1BE823A0>\n",
      "<socialblade.YouTubeVideo object at 0x0000014E1BE820D0>\n",
      "<socialblade.YouTubeVideo object at 0x0000014E1BE82BB0>\n",
      "<socialblade.YouTubeVideo object at 0x0000014E1BE82400>\n",
      "<socialblade.YouTubeVideo object at 0x0000014E1BE821F0>\n",
      "<socialblade.YouTubeVideo object at 0x0000014E1BE82C10>\n",
      "<socialblade.YouTubeVideo object at 0x0000014E1BE820A0>\n",
      "<socialblade.YouTubeVideo object at 0x0000014E1BE823D0>\n",
      "<socialblade.YouTubeVideo object at 0x0000014E1BE82190>\n",
      "<socialblade.YouTubeVideo object at 0x0000014E1BE82100>\n",
      "<socialblade.YouTubeVideo object at 0x0000014E1BE82520>\n",
      "<socialblade.YouTubeVideo object at 0x0000014E1BF59070>\n",
      "<socialblade.YouTubeVideo object at 0x0000014E1BF59BB0>\n",
      "<socialblade.YouTubeVideo object at 0x0000014E1BF59160>\n",
      "<socialblade.YouTubeVideo object at 0x0000014E1BF59070>\n",
      "<socialblade.YouTubeVideo object at 0x0000014E1BF59190>\n",
      "<socialblade.YouTubeVideo object at 0x0000014E1BF59700>\n",
      "<socialblade.YouTubeVideo object at 0x0000014E1BF594F0>\n",
      "<socialblade.YouTubeVideo object at 0x0000014E1BF592E0>\n",
      "<socialblade.YouTubeVideo object at 0x0000014E1BF59160>\n",
      "<socialblade.YouTubeVideo object at 0x0000014E1BF59760>\n",
      "<socialblade.YouTubeVideo object at 0x0000014E1BF59BB0>\n",
      "<socialblade.YouTubeVideo object at 0x0000014E1BF59550>\n",
      "<socialblade.YouTubeVideo object at 0x0000014E1BF59910>\n",
      "<socialblade.YouTubeVideo object at 0x0000014E1BF59A30>\n",
      "<socialblade.YouTubeVideo object at 0x0000014E1BF59670>\n",
      "<socialblade.YouTubeVideo object at 0x0000014E1BE82E50>\n"
     ]
    }
   ],
   "source": [
    "pewdiepie_channel = sb.YouTubeChannel('UC-lHJZR3Gqxm24_Vd_AJ5Yw')\n",
    "print(pewdiepie_channel.get_latest_videos())\n",
    "for video in pewdiepie_channel.get_latest_videos():\n",
    "    print(video)"
   ]
  },
  {
   "cell_type": "code",
   "execution_count": null,
   "metadata": {},
   "outputs": [],
   "source": []
  },
  {
   "cell_type": "code",
   "execution_count": null,
   "metadata": {},
   "outputs": [],
   "source": []
  }
 ],
 "metadata": {
  "interpreter": {
   "hash": "3fbc60d904b750c50af3cfeffd5e9541ea5bcb0fb7dd12428331b783cbeae4a7"
  },
  "kernelspec": {
   "display_name": "Python 3.8.12 64-bit ('geopandas': conda)",
   "name": "python3"
  },
  "language_info": {
   "codemirror_mode": {
    "name": "ipython",
    "version": 3
   },
   "file_extension": ".py",
   "mimetype": "text/x-python",
   "name": "python",
   "nbconvert_exporter": "python",
   "pygments_lexer": "ipython3",
   "version": "3.8.12"
  },
  "orig_nbformat": 4
 },
 "nbformat": 4,
 "nbformat_minor": 2
}
