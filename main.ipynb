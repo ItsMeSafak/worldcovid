{
 "cells": [
  {
   "cell_type": "markdown",
   "source": [
    "- Histogram (subscriber count, view count, video count)\n",
    "- Boxplot (subscriber count, view count, video count)\n",
    "- Scatterplot (x=vid duration y=views)\n",
    "- Like-dislike ratio\n",
    "- Interactieve kaart (Aantal channels per country)\n",
    "- Extra dataset"
   ],
   "metadata": {
    "collapsed": false,
    "pycharm": {
     "name": "#%% md\n"
    }
   }
  },
  {
   "cell_type": "code",
   "execution_count": 9,
   "metadata": {},
   "outputs": [],
   "source": [
    "import pandas as pd\n",
    "import pyyoutube as yt\n",
    "import socialblade as sb\n",
    "import streamlit as st\n",
    "import json"
   ]
  },
  {
   "cell_type": "code",
   "execution_count": 10,
   "metadata": {},
   "outputs": [
    {
     "name": "stderr",
     "output_type": "stream",
     "text": [
      "C:\\Users\\Omwro\\AppData\\Local\\Temp/ipykernel_9368/3857486085.py:4: FutureWarning: The default value of regex will change from True to False in a future version.\n",
      "  df_pewds.columns = df_pewds.columns.str.replace('snippet.', '')\n",
      "C:\\Users\\Omwro\\AppData\\Local\\Temp/ipykernel_9368/3857486085.py:5: FutureWarning: The default value of regex will change from True to False in a future version.\n",
      "  df_pewds.columns = df_pewds.columns.str.replace('statistics.', '')\n"
     ]
    },
    {
     "data": {
      "text/plain": "                              title           publishedAt    viewCount  \\\nid                                                                       \nUC-lHJZR3Gqxm24_Vd_AJ5Yw  PewDiePie  2010-04-29T10:54:00Z  27919249275   \n\n                         subscriberCount videoCount  \nid                                                   \nUC-lHJZR3Gqxm24_Vd_AJ5Yw       110000000       4433  ",
      "text/html": "<div>\n<style scoped>\n    .dataframe tbody tr th:only-of-type {\n        vertical-align: middle;\n    }\n\n    .dataframe tbody tr th {\n        vertical-align: top;\n    }\n\n    .dataframe thead th {\n        text-align: right;\n    }\n</style>\n<table border=\"1\" class=\"dataframe\">\n  <thead>\n    <tr style=\"text-align: right;\">\n      <th></th>\n      <th>title</th>\n      <th>publishedAt</th>\n      <th>viewCount</th>\n      <th>subscriberCount</th>\n      <th>videoCount</th>\n    </tr>\n    <tr>\n      <th>id</th>\n      <th></th>\n      <th></th>\n      <th></th>\n      <th></th>\n      <th></th>\n    </tr>\n  </thead>\n  <tbody>\n    <tr>\n      <th>UC-lHJZR3Gqxm24_Vd_AJ5Yw</th>\n      <td>PewDiePie</td>\n      <td>2010-04-29T10:54:00Z</td>\n      <td>27919249275</td>\n      <td>110000000</td>\n      <td>4433</td>\n    </tr>\n  </tbody>\n</table>\n</div>"
     },
     "execution_count": 10,
     "metadata": {},
     "output_type": "execute_result"
    }
   ],
   "source": [
    "yt_api = yt.Api(api_key=st.secrets['YT_API_KEY'])\n",
    "yt_pewds = yt_api.get_channel_info(channel_id='UC-lHJZR3Gqxm24_Vd_AJ5Yw')\n",
    "df_pewds = pd.json_normalize(yt_pewds.items[0].to_dict()).set_index('id')\n",
    "df_pewds.columns = df_pewds.columns.str.replace('snippet.', '')\n",
    "df_pewds.columns = df_pewds.columns.str.replace('statistics.', '')\n",
    "df_pewds_clean = df_pewds[['title', 'publishedAt', 'viewCount', 'subscriberCount', 'videoCount']]\n",
    "df_pewds_clean"
   ]
  },
  {
   "cell_type": "code",
   "execution_count": 11,
   "metadata": {},
   "outputs": [],
   "source": [
    "# pewdiepie_channel = sb.YouTubeChannel('UC-lHJZR3Gqxm24_Vd_AJ5Yw')\n",
    "# print(pewdiepie_channel.get_latest_videos())\n",
    "# for video in pewdiepie_channel.get_latest_videos():\n",
    "#     print(video)"
   ]
  },
  {
   "cell_type": "code",
   "execution_count": 11,
   "metadata": {},
   "outputs": [],
   "source": []
  },
  {
   "cell_type": "code",
   "execution_count": 11,
   "metadata": {},
   "outputs": [],
   "source": []
  }
 ],
 "metadata": {
  "interpreter": {
   "hash": "3fbc60d904b750c50af3cfeffd5e9541ea5bcb0fb7dd12428331b783cbeae4a7"
  },
  "kernelspec": {
   "name": "pycharm-36b788d7",
   "language": "python",
   "display_name": "PyCharm (youboard)"
  },
  "language_info": {
   "codemirror_mode": {
    "name": "ipython",
    "version": 3
   },
   "file_extension": ".py",
   "mimetype": "text/x-python",
   "name": "python",
   "nbconvert_exporter": "python",
   "pygments_lexer": "ipython3",
   "version": "3.8.12"
  },
  "orig_nbformat": 4
 },
 "nbformat": 4,
 "nbformat_minor": 2
}